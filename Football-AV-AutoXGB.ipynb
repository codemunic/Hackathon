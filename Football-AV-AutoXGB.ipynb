{
 "cells": [
  {
   "cell_type": "code",
   "execution_count": 1,
   "metadata": {
    "_cell_guid": "b1076dfc-b9ad-4769-8c92-a6c4dae69d19",
    "_uuid": "8f2839f25d086af736a60e9eeb907d3b93b6e0e5",
    "execution": {
     "iopub.execute_input": "2022-06-12T20:36:52.035970Z",
     "iopub.status.busy": "2022-06-12T20:36:52.035599Z",
     "iopub.status.idle": "2022-06-12T20:36:52.074325Z",
     "shell.execute_reply": "2022-06-12T20:36:52.073532Z",
     "shell.execute_reply.started": "2022-06-12T20:36:52.035876Z"
    },
    "papermill": {
     "duration": 0.073786,
     "end_time": "2022-02-01T05:57:46.368643",
     "exception": false,
     "start_time": "2022-02-01T05:57:46.294857",
     "status": "completed"
    },
    "tags": []
   },
   "outputs": [
    {
     "name": "stdout",
     "output_type": "stream",
     "text": [
      "/kaggle/input/av-football-hack-rating-prediction/data/sample_submission.csv\n",
      "/kaggle/input/av-football-hack-rating-prediction/data/Analyticsvidhya-football-hack-2022-06-12.pdf\n",
      "/kaggle/input/av-football-hack-rating-prediction/data/train.csv\n",
      "/kaggle/input/av-football-hack-rating-prediction/data/test.csv\n"
     ]
    }
   ],
   "source": [
    "# This Python 3 environment comes with many helpful analytics libraries installed\n",
    "# It is defined by the kaggle/python Docker image: https://github.com/kaggle/docker-python\n",
    "# For example, here's several helpful packages to load\n",
    "\n",
    "import numpy as np # linear algebra\n",
    "import pandas as pd # data processing, CSV file I/O (e.g. pd.read_csv)\n",
    "\n",
    "# Input data files are available in the read-only \"../input/\" directory\n",
    "# For example, running this (by clicking run or pressing Shift+Enter) will list all files under the input directory\n",
    "\n",
    "import os\n",
    "for dirname, _, filenames in os.walk('/kaggle/input'):\n",
    "    for filename in filenames:\n",
    "        print(os.path.join(dirname, filename))\n",
    "\n",
    "# You can write up to 20GB to the current directory (/kaggle/working/) that gets preserved as output when you create a version using \"Save & Run All\" \n",
    "# You can also write temporary files to /kaggle/temp/, but they won't be saved outside of the current session"
   ]
  },
  {
   "cell_type": "code",
   "execution_count": 2,
   "metadata": {
    "execution": {
     "iopub.execute_input": "2022-06-12T20:36:52.098902Z",
     "iopub.status.busy": "2022-06-12T20:36:52.098718Z",
     "iopub.status.idle": "2022-06-12T20:37:28.728836Z",
     "shell.execute_reply": "2022-06-12T20:37:28.727952Z",
     "shell.execute_reply.started": "2022-06-12T20:36:52.098880Z"
    },
    "papermill": {
     "duration": 42.560767,
     "end_time": "2022-02-01T05:58:28.950859",
     "exception": false,
     "start_time": "2022-02-01T05:57:46.390092",
     "status": "completed"
    },
    "tags": []
   },
   "outputs": [
    {
     "name": "stdout",
     "output_type": "stream",
     "text": [
      "Collecting scikit-learn\n",
      "  Downloading scikit_learn-1.0.2-cp37-cp37m-manylinux_2_17_x86_64.manylinux2014_x86_64.whl (24.8 MB)\n",
      "     |████████████████████████████████| 24.8 MB 26.2 MB/s            \n",
      "\u001b[?25hCollecting joblib>=0.11\n",
      "  Downloading joblib-1.1.0-py2.py3-none-any.whl (306 kB)\n",
      "     |████████████████████████████████| 306 kB 50.1 MB/s            \n",
      "\u001b[?25hCollecting threadpoolctl>=2.0.0\n",
      "  Downloading threadpoolctl-3.1.0-py3-none-any.whl (14 kB)\n",
      "Collecting scipy>=1.1.0\n",
      "  Downloading scipy-1.7.3-cp37-cp37m-manylinux_2_12_x86_64.manylinux2010_x86_64.whl (38.1 MB)\n",
      "     |████████████████████████████████| 38.1 MB 61.2 MB/s            \n",
      "\u001b[?25hCollecting numpy>=1.14.6\n",
      "  Downloading numpy-1.21.6-cp37-cp37m-manylinux_2_12_x86_64.manylinux2010_x86_64.whl (15.7 MB)\n",
      "     |████████████████████████████████| 15.7 MB 50.7 MB/s            \n",
      "\u001b[?25hInstalling collected packages: numpy, threadpoolctl, scipy, joblib, scikit-learn\n",
      "  Attempting uninstall: numpy\n",
      "    Found existing installation: numpy 1.20.3\n",
      "    Uninstalling numpy-1.20.3:\n",
      "      Successfully uninstalled numpy-1.20.3\n",
      "  Attempting uninstall: threadpoolctl\n",
      "    Found existing installation: threadpoolctl 3.0.0\n",
      "    Uninstalling threadpoolctl-3.0.0:\n",
      "      Successfully uninstalled threadpoolctl-3.0.0\n",
      "  Attempting uninstall: scipy\n",
      "    Found existing installation: scipy 1.7.3\n",
      "    Uninstalling scipy-1.7.3:\n",
      "      Successfully uninstalled scipy-1.7.3\n",
      "  Attempting uninstall: joblib\n",
      "    Found existing installation: joblib 1.1.0\n",
      "    Uninstalling joblib-1.1.0:\n",
      "      Successfully uninstalled joblib-1.1.0\n",
      "  Attempting uninstall: scikit-learn\n",
      "    Found existing installation: scikit-learn 0.23.2\n",
      "    Uninstalling scikit-learn-0.23.2:\n",
      "      Successfully uninstalled scikit-learn-0.23.2\n",
      "\u001b[31mERROR: pip's dependency resolver does not currently take into account all the packages that are installed. This behaviour is the source of the following dependency conflicts.\n",
      "tensorflow-io 0.21.0 requires tensorflow-io-gcs-filesystem==0.21.0, which is not installed.\n",
      "explainable-ai-sdk 1.3.2 requires xai-image-widget, which is not installed.\n",
      "dask-cudf 21.10.1 requires cupy-cuda114, which is not installed.\n",
      "beatrix-jupyterlab 3.1.6 requires google-cloud-bigquery-storage, which is not installed.\n",
      "yellowbrick 1.3.post1 requires numpy<1.20,>=1.16.0, but you have numpy 1.21.6 which is incompatible.\n",
      "tfx-bsl 1.5.0 requires absl-py<0.13,>=0.9, but you have absl-py 0.15.0 which is incompatible.\n",
      "tfx-bsl 1.5.0 requires numpy<1.20,>=1.16, but you have numpy 1.21.6 which is incompatible.\n",
      "tfx-bsl 1.5.0 requires pyarrow<6,>=1, but you have pyarrow 6.0.1 which is incompatible.\n",
      "tfx-bsl 1.5.0 requires tensorflow!=2.0.*,!=2.1.*,!=2.2.*,!=2.3.*,!=2.4.*,!=2.5.*,!=2.6.*,<3,>=1.15.2, but you have tensorflow 2.6.2 which is incompatible.\n",
      "tensorflow 2.6.2 requires numpy~=1.19.2, but you have numpy 1.21.6 which is incompatible.\n",
      "tensorflow 2.6.2 requires six~=1.15.0, but you have six 1.16.0 which is incompatible.\n",
      "tensorflow 2.6.2 requires typing-extensions~=3.7.4, but you have typing-extensions 3.10.0.2 which is incompatible.\n",
      "tensorflow 2.6.2 requires wrapt~=1.12.1, but you have wrapt 1.13.3 which is incompatible.\n",
      "tensorflow-transform 1.5.0 requires absl-py<0.13,>=0.9, but you have absl-py 0.15.0 which is incompatible.\n",
      "tensorflow-transform 1.5.0 requires numpy<1.20,>=1.16, but you have numpy 1.21.6 which is incompatible.\n",
      "tensorflow-transform 1.5.0 requires pyarrow<6,>=1, but you have pyarrow 6.0.1 which is incompatible.\n",
      "tensorflow-transform 1.5.0 requires tensorflow!=2.0.*,!=2.1.*,!=2.2.*,!=2.3.*,!=2.4.*,!=2.5.*,!=2.6.*,<2.8,>=1.15.2, but you have tensorflow 2.6.2 which is incompatible.\n",
      "tensorflow-serving-api 2.7.0 requires tensorflow<3,>=2.7.0, but you have tensorflow 2.6.2 which is incompatible.\n",
      "pdpbox 0.2.1 requires matplotlib==3.1.1, but you have matplotlib 3.5.1 which is incompatible.\n",
      "numba 0.54.1 requires numpy<1.21,>=1.17, but you have numpy 1.21.6 which is incompatible.\n",
      "hypertools 0.7.0 requires scikit-learn!=0.22,<0.24,>=0.19.1, but you have scikit-learn 1.0.2 which is incompatible.\n",
      "dask-cudf 21.10.1 requires dask==2021.09.1, but you have dask 2022.1.0 which is incompatible.\n",
      "dask-cudf 21.10.1 requires distributed==2021.09.1, but you have distributed 2022.1.0 which is incompatible.\n",
      "apache-beam 2.34.0 requires dill<0.3.2,>=0.3.1.1, but you have dill 0.3.4 which is incompatible.\n",
      "apache-beam 2.34.0 requires httplib2<0.20.0,>=0.8, but you have httplib2 0.20.2 which is incompatible.\n",
      "apache-beam 2.34.0 requires numpy<1.21.0,>=1.14.3, but you have numpy 1.21.6 which is incompatible.\n",
      "apache-beam 2.34.0 requires pyarrow<6.0.0,>=0.15.1, but you have pyarrow 6.0.1 which is incompatible.\u001b[0m\n",
      "Successfully installed joblib-1.1.0 numpy-1.21.6 scikit-learn-1.0.2 scipy-1.7.3 threadpoolctl-3.1.0\n",
      "\u001b[33mWARNING: Running pip as the 'root' user can result in broken permissions and conflicting behaviour with the system package manager. It is recommended to use a virtual environment instead: https://pip.pypa.io/warnings/venv\u001b[0m\n"
     ]
    }
   ],
   "source": [
    "! pip install scikit-learn --upgrade --force-reinstall"
   ]
  },
  {
   "cell_type": "code",
   "execution_count": 3,
   "metadata": {
    "execution": {
     "iopub.execute_input": "2022-06-12T20:37:28.731098Z",
     "iopub.status.busy": "2022-06-12T20:37:28.730791Z",
     "iopub.status.idle": "2022-06-12T20:37:31.227048Z",
     "shell.execute_reply": "2022-06-12T20:37:31.226194Z",
     "shell.execute_reply.started": "2022-06-12T20:37:28.731058Z"
    },
    "papermill": {
     "duration": 3.178235,
     "end_time": "2022-02-01T05:58:32.189713",
     "exception": false,
     "start_time": "2022-02-01T05:58:29.011478",
     "status": "completed"
    },
    "tags": []
   },
   "outputs": [
    {
     "name": "stdout",
     "output_type": "stream",
     "text": [
      "Collecting autoxgb\n",
      "  Downloading autoxgb-0.2.2-py3-none-any.whl (20 kB)\n",
      "Installing collected packages: autoxgb\n",
      "Successfully installed autoxgb-0.2.2\n",
      "\u001b[33mWARNING: Running pip as the 'root' user can result in broken permissions and conflicting behaviour with the system package manager. It is recommended to use a virtual environment instead: https://pip.pypa.io/warnings/venv\u001b[0m\n"
     ]
    }
   ],
   "source": [
    "! pip install --no-deps autoxgb"
   ]
  },
  {
   "cell_type": "code",
   "execution_count": 4,
   "metadata": {
    "execution": {
     "iopub.execute_input": "2022-06-12T20:37:31.229631Z",
     "iopub.status.busy": "2022-06-12T20:37:31.229407Z",
     "iopub.status.idle": "2022-06-12T20:37:32.434617Z",
     "shell.execute_reply": "2022-06-12T20:37:32.433885Z",
     "shell.execute_reply.started": "2022-06-12T20:37:31.229604Z"
    },
    "papermill": {
     "duration": 1.512163,
     "end_time": "2022-02-01T05:58:33.767002",
     "exception": false,
     "start_time": "2022-02-01T05:58:32.254839",
     "status": "completed"
    },
    "tags": []
   },
   "outputs": [],
   "source": [
    "from autoxgb import AutoXGB"
   ]
  },
  {
   "cell_type": "code",
   "execution_count": 5,
   "metadata": {
    "execution": {
     "iopub.execute_input": "2022-06-12T20:37:37.995401Z",
     "iopub.status.busy": "2022-06-12T20:37:37.994687Z",
     "iopub.status.idle": "2022-06-12T20:37:37.999354Z",
     "shell.execute_reply": "2022-06-12T20:37:37.998359Z",
     "shell.execute_reply.started": "2022-06-12T20:37:37.995366Z"
    },
    "papermill": {
     "duration": 0.07053,
     "end_time": "2022-02-01T05:58:33.901202",
     "exception": false,
     "start_time": "2022-02-01T05:58:33.830672",
     "status": "completed"
    },
    "tags": []
   },
   "outputs": [],
   "source": [
    "train_filename = \"../input/av-football-hack-rating-prediction/data/train.csv\"\n",
    "test_filename = \"../input/av-football-hack-rating-prediction/data/test.csv\""
   ]
  },
  {
   "cell_type": "code",
   "execution_count": 6,
   "metadata": {
    "execution": {
     "iopub.execute_input": "2022-06-12T20:37:39.481312Z",
     "iopub.status.busy": "2022-06-12T20:37:39.480852Z",
     "iopub.status.idle": "2022-06-12T20:37:39.487179Z",
     "shell.execute_reply": "2022-06-12T20:37:39.484562Z",
     "shell.execute_reply.started": "2022-06-12T20:37:39.481275Z"
    },
    "papermill": {
     "duration": 0.069714,
     "end_time": "2022-02-01T05:58:34.031499",
     "exception": false,
     "start_time": "2022-02-01T05:58:33.961785",
     "status": "completed"
    },
    "tags": []
   },
   "outputs": [],
   "source": [
    "output = 'autoxgb'\n",
    "targets = ['rating_num']\n",
    "task = 'regression'"
   ]
  },
  {
   "cell_type": "code",
   "execution_count": 7,
   "metadata": {
    "execution": {
     "iopub.execute_input": "2022-06-12T20:38:01.657524Z",
     "iopub.status.busy": "2022-06-12T20:38:01.657018Z",
     "iopub.status.idle": "2022-06-12T20:38:01.661459Z",
     "shell.execute_reply": "2022-06-12T20:38:01.660756Z",
     "shell.execute_reply.started": "2022-06-12T20:38:01.657488Z"
    },
    "papermill": {
     "duration": 0.111392,
     "end_time": "2022-02-01T05:58:34.205671",
     "exception": false,
     "start_time": "2022-02-01T05:58:34.094279",
     "status": "completed"
    },
    "tags": []
   },
   "outputs": [],
   "source": [
    "use_gpu = True\n",
    "num_folds = 5\n",
    "seed = 42\n",
    "num_trials = 100\n",
    "time_limit = 5*60\n",
    "fast = True"
   ]
  },
  {
   "cell_type": "code",
   "execution_count": 8,
   "metadata": {
    "execution": {
     "iopub.execute_input": "2022-06-12T20:38:05.212389Z",
     "iopub.status.busy": "2022-06-12T20:38:05.211878Z",
     "iopub.status.idle": "2022-06-12T20:38:05.218574Z",
     "shell.execute_reply": "2022-06-12T20:38:05.217650Z",
     "shell.execute_reply.started": "2022-06-12T20:38:05.212351Z"
    },
    "papermill": {
     "duration": 0.073135,
     "end_time": "2022-02-01T05:58:34.340311",
     "exception": false,
     "start_time": "2022-02-01T05:58:34.267176",
     "status": "completed"
    },
    "tags": []
   },
   "outputs": [
    {
     "name": "stderr",
     "output_type": "stream",
     "text": [
      "2022-06-12 20:38:05,214 INFO Output directory: autoxgb\n"
     ]
    }
   ],
   "source": [
    "\n",
    "\n",
    "model = AutoXGB(\n",
    "    train_filename=train_filename,\n",
    "    output=output,\n",
    "    test_filename=test_filename,\n",
    "    task=task,\n",
    "    targets=targets,\n",
    "    use_gpu=use_gpu,\n",
    "    num_folds=num_folds,\n",
    "    idx='row_id',\n",
    "    seed=seed,\n",
    "    num_trials=num_trials,\n",
    "    time_limit=time_limit,\n",
    "    fast=fast)"
   ]
  },
  {
   "cell_type": "code",
   "execution_count": 9,
   "metadata": {
    "execution": {
     "iopub.execute_input": "2022-06-12T20:38:08.630226Z",
     "iopub.status.busy": "2022-06-12T20:38:08.629634Z",
     "iopub.status.idle": "2022-06-12T21:20:54.345172Z",
     "shell.execute_reply": "2022-06-12T21:20:54.344452Z",
     "shell.execute_reply.started": "2022-06-12T20:38:08.630185Z"
    },
    "papermill": {
     "duration": 1152.578901,
     "end_time": "2022-02-01T06:17:46.981519",
     "exception": false,
     "start_time": "2022-02-01T05:58:34.402618",
     "status": "completed"
    },
    "tags": []
   },
   "outputs": [
    {
     "name": "stderr",
     "output_type": "stream",
     "text": [
      "2022-06-12 20:38:08,635 INFO Reading training data\n",
      "2022-06-12 20:38:28,459 INFO Mem. usage decreased to 34.43 Mb (72.4% reduction)\n",
      "2022-06-12 20:38:28,460 INFO Problem type: single_column_regression\n",
      "/opt/conda/lib/python3.7/site-packages/autoxgb/autoxgb.py:145: PerformanceWarning: DataFrame is highly fragmented.  This is usually the result of calling `frame.insert` many times, which has poor performance.  Consider joining all columns at once using pd.concat(axis=1) instead.  To get a de-fragmented frame, use `newframe = frame.copy()`\n",
      "  df[self.idx] = np.arange(len(df))\n",
      "2022-06-12 20:38:34,970 INFO Mem. usage decreased to 14.76 Mb (72.4% reduction)\n",
      "2022-06-12 20:38:34,972 INFO Creating folds\n",
      "/opt/conda/lib/python3.7/site-packages/autoxgb/autoxgb.py:59: PerformanceWarning: DataFrame is highly fragmented.  This is usually the result of calling `frame.insert` many times, which has poor performance.  Consider joining all columns at once using pd.concat(axis=1) instead.  To get a de-fragmented frame, use `newframe = frame.copy()`\n",
      "  train_df[\"kfold\"] = -1\n",
      "2022-06-12 20:38:35,075 INFO Found 2 categorical features.\n",
      "2022-06-12 20:38:35,076 INFO Encoding categorical features\n",
      "2022-06-12 20:38:38,627 INFO Model config: train_filename='../input/av-football-hack-rating-prediction/data/train.csv' test_filename='../input/av-football-hack-rating-prediction/data/test.csv' idx='id' targets=['rating_num'] problem_type=<ProblemType.single_column_regression: 4> output='autoxgb' features=['row_id', 'scout_id', 'winner', 'team', 'competitionId', 'player_position_1', 'player_position_2', 'player_height', 'player_weight', 'player_general_var_0', 'player_general_var_1', 'player_general_var_2', 'player_general_var_3', 'player_general_var_4', 'player_general_var_5', 'player_positional_raw_var_0', 'player_positional_raw_var_1', 'player_positional_raw_var_2', 'player_positional_raw_var_3', 'player_defensive_raw_var_4', 'player_defensive_raw_var_5', 'player_other_raw_var_6', 'player_offensive_raw_var_7', 'player_other_raw_var_8', 'player_other_raw_var_9', 'player_other_raw_var_10', 'player_offensive_raw_var_11', 'player_other_raw_var_12', 'player_other_raw_var_13', 'player_other_raw_var_14', 'player_positional_raw_var_15', 'player_positional_raw_var_16', 'player_positional_raw_var_17', 'player_other_raw_var_18', 'player_other_raw_var_19', 'player_other_raw_var_20', 'player_positional_raw_var_21', 'player_positional_raw_var_22', 'player_positional_raw_var_23', 'player_other_raw_var_24', 'player_other_raw_var_25', 'player_other_raw_var_26', 'player_other_raw_var_27', 'player_other_raw_var_28', 'player_other_raw_var_29', 'player_other_raw_var_30', 'player_offensive_raw_var_31', 'player_offensive_raw_var_32', 'player_other_raw_var_33', 'player_other_raw_var_34', 'player_other_raw_var_35', 'player_other_raw_var_36', 'player_other_raw_var_37', 'player_other_raw_var_38', 'player_other_raw_var_39', 'player_other_raw_var_40', 'player_other_raw_var_41', 'player_defensive_raw_var_42', 'player_defensive_raw_var_43', 'player_other_raw_var_44', 'player_other_raw_var_45', 'player_offensive_raw_var_46', 'player_other_raw_var_47', 'player_defensive_raw_var_48', 'player_offensive_raw_var_49', 'player_offensive_raw_var_50', 'player_other_raw_var_51', 'player_defensive_raw_var_52', 'player_offensive_raw_var_53', 'player_other_raw_var_54', 'player_positional_raw_var_55', 'player_other_raw_var_56', 'player_other_raw_var_57', 'player_other_raw_var_58', 'player_other_raw_var_59', 'player_offensive_raw_var_60', 'player_defensive_raw_var_61', 'player_defensive_raw_var_62', 'player_other_raw_var_63', 'player_other_raw_var_64', 'player_defensive_raw_var_65', 'player_defensive_raw_var_66', 'player_defensive_raw_var_67', 'player_other_raw_var_68', 'player_other_raw_var_69', 'player_defensive_raw_var_70', 'player_general_raw_var_71', 'player_general_raw_var_72', 'player_offensive_raw_var_73', 'player_defensive_raw_var_74', 'player_other_raw_var_75', 'player_other_raw_var_76', 'player_offensive_raw_var_77', 'player_general_raw_var_78', 'player_offensive_raw_var_79', 'player_other_raw_var_80', 'player_other_raw_var_81', 'player_other_raw_var_82', 'player_other_raw_var_83', 'player_other_raw_var_84', 'player_other_raw_var_85', 'player_positional_raw_var_86', 'player_offensive_raw_var_87', 'player_other_raw_var_88', 'player_other_raw_var_89', 'player_other_raw_var_90', 'player_other_raw_var_91', 'player_defensive_raw_var_92', 'player_defensive_raw_var_93', 'player_defensive_raw_var_94', 'player_defensive_raw_var_95', 'player_other_raw_var_96', 'player_defensive_raw_var_97', 'player_other_raw_var_98', 'player_other_raw_var_99', 'player_defensive_raw_var_100', 'player_other_raw_var_101', 'player_offensive_raw_var_102', 'player_other_raw_var_103', 'player_other_raw_var_104', 'player_offensive_raw_var_105', 'player_other_raw_var_106', 'player_other_raw_var_107', 'player_other_raw_var_108', 'player_other_raw_var_109', 'player_positional_raw_var_110', 'player_other_raw_var_111', 'player_other_raw_var_112', 'player_other_raw_var_113', 'player_general_raw_var_114', 'player_offensive_raw_var_115', 'player_offensive_raw_var_116', 'player_other_raw_var_117', 'player_other_raw_var_118', 'player_other_raw_var_119', 'player_offensive_raw_var_120', 'player_other_raw_var_121', 'player_offensive_raw_var_122', 'player_other_raw_var_123', 'player_other_raw_var_124', 'player_other_raw_var_125', 'player_offensive_raw_var_126', 'player_other_raw_var_127', 'player_other_raw_var_128', 'player_offensive_raw_var_129', 'player_offensive_raw_var_130', 'player_offensive_raw_var_131', 'player_other_raw_var_132', 'player_offensive_raw_var_133', 'player_other_raw_var_134', 'player_other_raw_var_135', 'player_other_raw_var_136', 'player_defensive_raw_var_137', 'player_offensive_raw_var_138', 'player_other_raw_var_139', 'player_other_raw_var_140', 'player_other_raw_var_141', 'player_other_raw_var_142', 'player_general_raw_var_143', 'player_other_raw_var_144', 'player_offensive_raw_var_145', 'player_other_raw_var_146', 'player_other_raw_var_147', 'player_offensive_raw_var_148', 'player_other_raw_var_149', 'player_offensive_raw_var_150', 'player_offensive_raw_var_151', 'player_other_raw_var_152', 'player_offensive_raw_var_153', 'player_other_raw_var_154', 'player_offensive_raw_var_155', 'player_offensive_raw_var_156', 'player_other_raw_var_157', 'player_offensive_raw_var_158', 'player_other_raw_var_159', 'player_other_raw_var_160', 'player_defensive_raw_var_161', 'player_general_raw_var_162', 'player_other_raw_var_163', 'player_other_raw_var_164', 'player_defensive_raw_var_165', 'player_defensive_raw_var_166', 'player_other_raw_var_167', 'player_other_raw_var_168', 'player_other_raw_var_169', 'player_offensive_raw_var_170', 'player_other_raw_var_171', 'player_other_raw_var_172', 'player_other_raw_var_173', 'player_positional_raw_var_174', 'player_other_raw_var_175', 'player_other_raw_var_176', 'player_other_raw_var_177', 'player_other_raw_var_178', 'player_other_raw_var_179', 'player_other_raw_var_180', 'player_other_raw_var_181', 'player_offensive_raw_var_182', 'player_other_raw_var_183', 'player_other_raw_var_184', 'player_positional_raw_var_185', 'player_offensive_raw_var_186', 'player_other_raw_var_187', 'player_other_raw_var_188', 'player_physical_raw_var_189', 'player_physical_raw_var_190', 'player_physical_raw_var_191', 'player_physical_raw_var_192', 'player_physical_raw_var_193', 'player_physical_raw_var_194', 'player_physical_raw_var_195', 'player_physical_raw_var_196', 'player_other_raw_var_197', 'player_physical_raw_var_198', 'player_positional_ratio_var_0', 'player_positional_ratio_var_1', 'player_defensive_ratio_var_2', 'player_defensive_ratio_var_3', 'player_other_ratio_var_4', 'player_other_ratio_var_5', 'player_other_ratio_var_6', 'player_other_ratio_var_7', 'player_defensive_ratio_var_8', 'player_other_ratio_var_9', 'player_other_ratio_var_10', 'player_other_ratio_var_11', 'player_offensive_ratio_var_12', 'player_offensive_ratio_var_13', 'player_other_ratio_var_14', 'player_other_ratio_var_15', 'player_defensive_ratio_var_16', 'player_defensive_ratio_var_17', 'player_other_ratio_var_18', 'player_offensive_ratio_var_19', 'player_offensive_ratio_var_20', 'player_offensive_ratio_var_21', 'player_positional_ratio_var_22', 'player_other_ratio_var_23', 'player_other_ratio_var_24', 'player_other_ratio_var_25', 'player_other_ratio_var_26', 'player_other_ratio_var_27', 'player_other_ratio_var_28', 'player_defensive_ratio_var_29', 'player_other_ratio_var_30', 'player_other_ratio_var_31', 'player_other_ratio_var_32', 'player_other_ratio_var_33', 'player_other_ratio_var_34', 'player_offensive_ratio_var_35', 'player_other_ratio_var_36', 'player_other_ratio_var_37', 'player_defensive_ratio_var_38', 'player_defensive_ratio_var_39', 'player_offensive_ratio_var_40', 'player_other_ratio_var_41', 'player_other_ratio_var_42', 'player_other_ratio_var_43', 'player_other_ratio_var_44', 'player_offensive_ratio_var_45', 'player_positional_ratio_var_46', 'player_positional_ratio_var_47', 'player_other_ratio_var_48', 'player_other_ratio_var_49', 'player_offensive_ratio_var_50', 'player_offensive_ratio_var_51', 'player_offensive_ratio_var_52', 'player_offensive_ratio_var_53', 'player_offensive_ratio_var_54', 'player_other_ratio_var_55', 'player_other_ratio_var_56', 'player_offensive_ratio_var_57', 'player_offensive_ratio_var_58', 'player_offensive_ratio_var_59', 'player_other_ratio_var_60', 'player_other_ratio_var_61', 'player_other_ratio_var_62', 'player_other_ratio_var_63', 'player_offensive_ratio_var_64', 'player_other_ratio_var_65', 'player_other_ratio_var_66', 'player_other_ratio_var_67', 'player_offensive_ratio_var_68', 'player_offensive_ratio_var_69', 'player_offensive_ratio_var_70', 'player_other_ratio_var_71', 'player_offensive_ratio_var_72', 'player_other_ratio_var_73', 'player_other_ratio_var_74', 'player_other_ratio_var_75', 'player_defensive_ratio_var_76', 'player_offensive_ratio_var_77', 'player_offensive_ratio_var_78', 'player_positional_ratio_var_79', 'player_other_ratio_var_80', 'player_defensive_ratio_var_81', 'player_defensive_ratio_var_82', 'player_defensive_ratio_var_83', 'player_defensive_ratio_var_84', 'player_defensive_ratio_var_85', 'player_other_ratio_var_86', 'player_defensive_derived_var_0', 'player_defensive_derived_var_1', 'player_defensive_derived_var_2', 'player_offensive_derived_var_3', 'player_physical_derived_var_4', 'player_physical_derived_var_5', 'player_physical_derived_var_6', 'player_defensive_derived_var_7', 'player_defensive_derived_var_8', 'player_physical_derived_var_9', 'player_physical_derived_var_10', 'player_defensive_derived_var_11', 'player_defensive_derived_var_12', 'player_other_derived_var_13', 'player_positional_derived_var_14', 'player_positional_derived_var_15', 'player_physical_derived_var_16', 'player_offensive_derived_var_17', 'player_physical_derived_var_18', 'player_defensive_derived_var_19', 'player_other_derived_var_20', 'player_offensive_derived_var_21', 'player_positional_derived_var_22', 'player_physical_derived_var_23', 'player_offensive_derived_var_24', 'player_offensive_derived_var_25', 'player_offensive_derived_var_26', 'player_positional_derived_var_27', 'player_physical_derived_var_28', 'player_defensive_derived_var_29', 'player_physical_derived_var_30', 'player_defensive_derived_var_31', 'player_defensive_derived_var_32', 'player_defensive_derived_var_33', 'player_physical_derived_var_34', 'player_physical_derived_var_35', 'player_physical_derived_var_36', 'player_defensive_derived_var_37', 'player_offensive_derived_var_38', 'player_physical_derived_var_39', 'player_physical_derived_var_40', 'player_offensive_derived_var_41', 'player_other_derived_var_42', 'player_positional_derived_var_43', 'player_positional_derived_var_44', 'player_physical_derived_var_45', 'player_offensive_derived_var_46', 'player_offensive_derived_var_47', 'player_physical_derived_var_48', 'player_defensive_derived_var_49', 'player_offensive_derived_var_50', 'player_other_derived_var_51', 'player_offensive_derived_var_52', 'player_positional_derived_var_53', 'player_physical_derived_var_54', 'player_offensive_derived_var_55', 'player_offensive_derived_var_56', 'player_positional_derived_var_57', 'player_defensive_derived_var_58', 'player_physical_derived_var_59', 'player_offensive_derived_var_60', 'player_other_derived_var_61', 'player_physical_derived_var_62', 'player_offensive_derived_var_63', 'player_positional_derived_var_64', 'player_defensive_derived_var_65', 'player_defensive_derived_var_66', 'player_defensive_derived_var_67', 'player_offensive_derived_var_68', 'player_physical_derived_var_69', 'player_physical_derived_var_70', 'player_physical_derived_var_71', 'player_defensive_derived_var_72', 'player_offensive_derived_var_73', 'player_physical_derived_var_74', 'player_physical_derived_var_75', 'player_other_derived_var_76', 'player_positional_derived_var_77', 'player_positional_derived_var_78', 'player_physical_derived_var_79', 'player_offensive_derived_var_80', 'player_offensive_derived_var_81', 'player_physical_derived_var_82', 'player_defensive_derived_var_83', 'player_other_derived_var_84', 'player_positional_derived_var_85', 'player_offensive_derived_var_86', 'player_positional_derived_var_87', 'player_physical_derived_var_88', 'player_offensive_derived_var_89', 'player_offensive_derived_var_90', 'player_offensive_derived_var_91', 'player_positional_derived_var_92', 'player_defensive_derived_var_93', 'player_physical_derived_var_94', 'player_defensive_derived_var_95', 'player_other_derived_var_96', 'player_physical_derived_var_97', 'player_defensive_derived_var_98', 'player_offensive_derived_var_99', 'player_positional_derived_var_100', 'player_defensive_derived_var_101', 'player_defensive_derived_var_102', 'player_defensive_derived_var_103', 'player_offensive_derived_var_104', 'player_physical_derived_var_105', 'player_physical_derived_var_106', 'player_physical_derived_var_107', 'player_defensive_derived_var_108', 'player_defensive_derived_var_109', 'player_offensive_derived_var_110', 'player_physical_derived_var_111', 'player_physical_derived_var_112', 'player_defensive_derived_var_113', 'player_defensive_derived_var_114', 'player_other_derived_var_115', 'player_positional_derived_var_116', 'player_positional_derived_var_117', 'player_physical_derived_var_118', 'player_offensive_derived_var_119', 'player_offensive_derived_var_120', 'player_physical_derived_var_121', 'player_defensive_derived_var_122', 'player_other_derived_var_123', 'player_offensive_derived_var_124', 'player_positional_derived_var_125', 'player_physical_derived_var_126', 'player_offensive_derived_var_127', 'player_offensive_derived_var_128', 'player_offensive_derived_var_129', 'player_positional_derived_var_130', 'player_physical_derived_var_131', 'player_defensive_derived_var_132', 'player_physical_derived_var_133', 'player_defensive_derived_var_134', 'player_offensive_derived_var_135', 'player_positional_derived_var_136', 'player_defensive_derived_var_137', 'player_defensive_derived_var_138', 'player_other_derived_var_139', 'player_other_derived_var_140', 'player_other_derived_var_141', 'player_defensive_derived_var_142', 'player_other_derived_var_143', 'player_other_derived_var_144', 'player_other_derived_var_145', 'player_general_derived_var_146', 'player_other_derived_var_147', 'player_general_derived_var_148', 'player_defensive_derived_var_149', 'player_other_derived_var_150', 'player_offensive_derived_var_151', 'player_general_derived_var_152', 'player_offensive_derived_var_153', 'player_offensive_derived_var_154', 'player_offensive_derived_var_155', 'player_general_derived_var_156', 'player_other_derived_var_157', 'player_offensive_derived_var_158', 'player_offensive_derived_var_159', 'player_other_derived_var_160', 'player_offensive_derived_var_161', 'team1_system_id', 'team1_other_raw_var_0', 'team1_offensive_raw_var_1', 'team1_other_raw_var_2', 'team1_defensive_raw_var_3', 'team1_offensive_raw_var_4', 'team1_other_raw_var_5', 'team1_defensive_raw_var_6', 'team1_offensive_raw_var_7', 'team1_other_raw_var_8', 'team1_defensive_raw_var_9', 'team1_offensive_raw_var_10', 'team1_other_raw_var_11', 'team1_defensive_raw_var_12', 'team1_offensive_raw_var_13', 'team1_other_raw_var_14', 'team1_other_raw_var_15', 'team1_other_raw_var_16', 'team1_defensive_raw_var_17', 'team1_offensive_raw_var_18', 'team1_other_raw_var_19', 'team1_other_raw_var_20', 'team1_other_raw_var_21', 'team1_other_raw_var_22', 'team1_other_raw_var_23', 'team1_defensive_raw_var_24', 'team1_other_raw_var_25', 'team1_other_raw_var_26', 'team1_other_raw_var_27', 'team1_other_raw_var_28', 'team1_defensive_raw_var_29', 'team1_other_raw_var_30', 'team1_other_raw_var_31', 'team1_other_raw_var_32', 'team1_other_raw_var_33', 'team1_other_raw_var_34', 'team1_offensive_raw_var_35', 'team1_other_raw_var_36', 'team1_other_raw_var_37', 'team1_other_raw_var_38', 'team1_other_raw_var_39', 'team1_other_raw_var_40', 'team1_other_raw_var_41', 'team1_other_raw_var_42', 'team1_other_raw_var_43', 'team1_other_raw_var_44', 'team1_other_raw_var_45', 'team1_other_raw_var_46', 'team1_other_raw_var_47', 'team1_other_raw_var_48', 'team1_other_raw_var_49', 'team1_other_raw_var_50', 'team1_other_raw_var_51', 'team1_other_raw_var_52', 'team1_other_raw_var_53', 'team1_other_raw_var_54', 'team1_other_raw_var_55', 'team1_other_raw_var_56', 'team1_other_raw_var_57', 'team1_other_raw_var_58', 'team1_other_raw_var_59', 'team1_other_raw_var_60', 'team1_other_raw_var_61', 'team1_other_raw_var_62', 'team1_other_raw_var_63', 'team1_other_raw_var_64', 'team1_other_raw_var_65', 'team1_other_raw_var_66', 'team1_other_raw_var_67', 'team1_defensive_raw_var_68', 'team1_other_raw_var_69', 'team1_other_raw_var_70', 'team1_defensive_raw_var_71', 'team1_other_raw_var_72', 'team1_other_raw_var_73', 'team1_other_raw_var_74', 'team1_other_raw_var_75', 'team1_other_raw_var_76', 'team1_offensive_raw_var_77', 'team1_other_raw_var_78', 'team1_other_raw_var_79', 'team1_other_raw_var_80', 'team1_other_raw_var_81', 'team1_other_raw_var_82', 'team1_other_raw_var_83', 'team1_other_raw_var_84', 'team1_other_raw_var_85', 'team1_offensive_raw_var_86', 'team1_other_raw_var_87', 'team1_other_raw_var_88', 'team1_other_raw_var_89', 'team1_other_raw_var_90', 'team1_offensive_raw_var_91', 'team1_other_raw_var_92', 'team1_other_raw_var_93', 'team1_other_ratio_var_0', 'team1_other_ratio_var_1', 'team1_defensive_ratio_var_2', 'team1_other_ratio_var_3', 'team1_other_ratio_var_4', 'team1_defensive_ratio_var_5', 'team1_offensive_ratio_var_6', 'team1_other_ratio_var_7', 'team1_other_ratio_var_8', 'team1_offensive_ratio_var_9', 'team1_other_ratio_var_10', 'team1_other_ratio_var_11', 'team1_other_ratio_var_12', 'team1_other_ratio_var_13', 'team1_other_ratio_var_14', 'team1_other_ratio_var_15', 'team1_other_ratio_var_16', 'team1_other_ratio_var_17', 'team1_other_ratio_var_18', 'team1_other_ratio_var_19', 'team1_other_ratio_var_20', 'team1_other_ratio_var_21', 'team1_other_ratio_var_22', 'team1_other_ratio_var_23', 'team1_offensive_ratio_var_24', 'team1_other_ratio_var_25', 'team1_other_ratio_var_26', 'team1_other_ratio_var_27', 'team1_other_ratio_var_28', 'team1_other_ratio_var_29', 'team1_offensive_ratio_var_30', 'team1_other_ratio_var_31', 'team1_other_ratio_var_32', 'team1_other_ratio_var_33', 'team1_other_ratio_var_34', 'team1_other_ratio_var_35', 'team1_other_ratio_var_36', 'team1_other_ratio_var_37', 'team1_other_ratio_var_38', 'team1_other_ratio_var_39', 'team1_other_ratio_var_40', 'team1_other_ratio_var_41', 'team1_other_ratio_var_42', 'team1_other_ratio_var_43', 'team1_other_ratio_var_44', 'team1_other_ratio_var_45', 'team1_other_ratio_var_46', 'team1_other_ratio_var_47', 'team1_offensive_ratio_var_48', 'team1_other_ratio_var_49', 'team1_other_ratio_var_50', 'team1_other_ratio_var_51', 'team1_other_ratio_var_52', 'team1_offensive_derived_var_0', 'team1_defensive_derived_var_1', 'team1_defensive_derived_var_2', 'team1_defensive_derived_var_3', 'team1_offensive_derived_var_4', 'team1_offensive_derived_var_5', 'team1_defensive_derived_var_6', 'team1_offensive_derived_var_7', 'team1_defensive_derived_var_8', 'team1_defensive_derived_var_9', 'team1_defensive_derived_var_10', 'team1_offensive_derived_var_11', 'team1_offensive_derived_var_12', 'team1_offensive_derived_var_13', 'team1_offensive_derived_var_14', 'team1_defensive_derived_var_15', 'team1_offensive_derived_var_16', 'team1_defensive_derived_var_17', 'team1_offensive_derived_var_18', 'team1_offensive_derived_var_19', 'team2_system_id', 'team2_other_raw_var_0', 'team2_offensive_raw_var_1', 'team2_other_raw_var_2', 'team2_defensive_raw_var_3', 'team2_offensive_raw_var_4', 'team2_other_raw_var_5', 'team2_defensive_raw_var_6', 'team2_offensive_raw_var_7', 'team2_other_raw_var_8', 'team2_defensive_raw_var_9', 'team2_offensive_raw_var_10', 'team2_other_raw_var_11', 'team2_defensive_raw_var_12', 'team2_offensive_raw_var_13', 'team2_other_raw_var_14', 'team2_other_raw_var_15', 'team2_other_raw_var_16', 'team2_defensive_raw_var_17', 'team2_offensive_raw_var_18', 'team2_other_raw_var_19', 'team2_other_raw_var_20', 'team2_other_raw_var_21', 'team2_other_raw_var_22', 'team2_other_raw_var_23', 'team2_defensive_raw_var_24', 'team2_other_raw_var_25', 'team2_other_raw_var_26', 'team2_other_raw_var_27', 'team2_other_raw_var_28', 'team2_defensive_raw_var_29', 'team2_other_raw_var_30', 'team2_other_raw_var_31', 'team2_other_raw_var_32', 'team2_other_raw_var_33', 'team2_other_raw_var_34', 'team2_offensive_raw_var_35', 'team2_other_raw_var_36', 'team2_other_raw_var_37', 'team2_other_raw_var_38', 'team2_other_raw_var_39', 'team2_other_raw_var_40', 'team2_other_raw_var_41', 'team2_other_raw_var_42', 'team2_other_raw_var_43', 'team2_other_raw_var_44', 'team2_other_raw_var_45', 'team2_other_raw_var_46', 'team2_other_raw_var_47', 'team2_other_raw_var_48', 'team2_other_raw_var_49', 'team2_other_raw_var_50', 'team2_other_raw_var_51', 'team2_other_raw_var_52', 'team2_other_raw_var_53', 'team2_other_raw_var_54', 'team2_other_raw_var_55', 'team2_other_raw_var_56', 'team2_other_raw_var_57', 'team2_other_raw_var_58', 'team2_other_raw_var_59', 'team2_other_raw_var_60', 'team2_other_raw_var_61', 'team2_other_raw_var_62', 'team2_other_raw_var_63', 'team2_other_raw_var_64', 'team2_other_raw_var_65', 'team2_other_raw_var_66', 'team2_other_raw_var_67', 'team2_defensive_raw_var_68', 'team2_other_raw_var_69', 'team2_other_raw_var_70', 'team2_defensive_raw_var_71', 'team2_other_raw_var_72', 'team2_other_raw_var_73', 'team2_other_raw_var_74', 'team2_other_raw_var_75', 'team2_other_raw_var_76', 'team2_offensive_raw_var_77', 'team2_other_raw_var_78', 'team2_other_raw_var_79', 'team2_other_raw_var_80', 'team2_other_raw_var_81', 'team2_other_raw_var_82', 'team2_other_raw_var_83', 'team2_other_raw_var_84', 'team2_other_raw_var_85', 'team2_offensive_raw_var_86', 'team2_other_raw_var_87', 'team2_other_raw_var_88', 'team2_other_raw_var_89', 'team2_other_raw_var_90', 'team2_offensive_raw_var_91', 'team2_other_raw_var_92', 'team2_other_raw_var_93', 'team2_other_ratio_var_0', 'team2_other_ratio_var_1', 'team2_defensive_ratio_var_2', 'team2_other_ratio_var_3', 'team2_other_ratio_var_4', 'team2_defensive_ratio_var_5', 'team2_offensive_ratio_var_6', 'team2_other_ratio_var_7', 'team2_other_ratio_var_8', 'team2_offensive_ratio_var_9', 'team2_other_ratio_var_10', 'team2_other_ratio_var_11', 'team2_other_ratio_var_12', 'team2_other_ratio_var_13', 'team2_other_ratio_var_14', 'team2_other_ratio_var_15', 'team2_other_ratio_var_16', 'team2_other_ratio_var_17', 'team2_other_ratio_var_18', 'team2_other_ratio_var_19', 'team2_other_ratio_var_20', 'team2_other_ratio_var_21', 'team2_other_ratio_var_22', 'team2_other_ratio_var_23', 'team2_offensive_ratio_var_24', 'team2_other_ratio_var_25', 'team2_other_ratio_var_26', 'team2_other_ratio_var_27', 'team2_other_ratio_var_28', 'team2_other_ratio_var_29', 'team2_offensive_ratio_var_30', 'team2_other_ratio_var_31', 'team2_other_ratio_var_32', 'team2_other_ratio_var_33', 'team2_other_ratio_var_34', 'team2_other_ratio_var_35', 'team2_other_ratio_var_36', 'team2_other_ratio_var_37', 'team2_other_ratio_var_38', 'team2_other_ratio_var_39', 'team2_other_ratio_var_40', 'team2_other_ratio_var_41', 'team2_other_ratio_var_42', 'team2_other_ratio_var_43', 'team2_other_ratio_var_44', 'team2_other_ratio_var_45', 'team2_other_ratio_var_46', 'team2_other_ratio_var_47', 'team2_offensive_ratio_var_48', 'team2_other_ratio_var_49', 'team2_other_ratio_var_50', 'team2_other_ratio_var_51', 'team2_other_ratio_var_52', 'team2_offensive_derived_var_0', 'team2_defensive_derived_var_1', 'team2_defensive_derived_var_2', 'team2_defensive_derived_var_3', 'team2_offensive_derived_var_4', 'team2_offensive_derived_var_5', 'team2_defensive_derived_var_6', 'team2_offensive_derived_var_7', 'team2_defensive_derived_var_8', 'team2_defensive_derived_var_9', 'team2_defensive_derived_var_10', 'team2_offensive_derived_var_11', 'team2_offensive_derived_var_12', 'team2_offensive_derived_var_13', 'team2_offensive_derived_var_14', 'team2_defensive_derived_var_15', 'team2_offensive_derived_var_16', 'team2_defensive_derived_var_17', 'team2_offensive_derived_var_18', 'team2_offensive_derived_var_19'] num_folds=5 use_gpu=True seed=42 categorical_features=['winner', 'team'] num_trials=100 time_limit=300 fast=True\n",
      "2022-06-12 20:38:38,629 INFO Saving model config\n",
      "2022-06-12 20:38:38,636 INFO Saving encoders\n",
      "\u001b[32m[I 2022-06-12 20:38:39,000]\u001b[0m A new study created in RDB with name: autoxgb\u001b[0m\n",
      "2022-06-12 20:38:56,174 INFO Metrics: {'r2': 0.19183912589433472, 'mse': 2.7611160278320312, 'mae': 1.2552059888839722, 'rmse': 1.6616606712341309}\n",
      "\u001b[32m[I 2022-06-12 20:38:56,215]\u001b[0m Trial 0 finished with value: 1.6616606712341309 and parameters: {'learning_rate': 0.0755691097979903, 'reg_lambda': 0.00019140409655879685, 'reg_alpha': 0.008808371159327179, 'subsample': 0.11800535725260165, 'colsample_bytree': 0.517643039949256, 'max_depth': 7, 'early_stopping_rounds': 426, 'n_estimators': 20000}. Best is trial 0 with value: 1.6616606712341309.\u001b[0m\n",
      "2022-06-12 20:40:06,917 INFO Metrics: {'r2': 0.36833192820609517, 'mse': 2.158121109008789, 'mae': 1.0756360292434692, 'rmse': 1.4690544605255127}\n",
      "\u001b[32m[I 2022-06-12 20:40:06,951]\u001b[0m Trial 1 finished with value: 1.4690544605255127 and parameters: {'learning_rate': 0.015727809161301374, 'reg_lambda': 2.914300143572903e-08, 'reg_alpha': 0.4305290676662849, 'subsample': 0.29374797722462775, 'colsample_bytree': 0.6995093503692109, 'max_depth': 4, 'early_stopping_rounds': 114, 'n_estimators': 15000}. Best is trial 1 with value: 1.4690544605255127.\u001b[0m\n",
      "2022-06-12 20:41:39,837 INFO Metrics: {'r2': 0.3663906670513838, 'mse': 2.1647534370422363, 'mae': 1.0572818517684937, 'rmse': 1.4713101387023926}\n",
      "\u001b[32m[I 2022-06-12 20:41:39,869]\u001b[0m Trial 2 finished with value: 1.4713101387023926 and parameters: {'learning_rate': 0.04453688387709642, 'reg_lambda': 3.5834332556318602e-06, 'reg_alpha': 0.0005711401405480177, 'subsample': 0.3075843746343934, 'colsample_bytree': 0.7871929403561577, 'max_depth': 8, 'early_stopping_rounds': 180, 'n_estimators': 15000}. Best is trial 1 with value: 1.4690544605255127.\u001b[0m\n",
      "2022-06-12 20:41:53,258 INFO Metrics: {'r2': 0.27980200969791014, 'mse': 2.4605870246887207, 'mae': 1.1672555208206177, 'rmse': 1.568625807762146}\n",
      "\u001b[32m[I 2022-06-12 20:41:53,286]\u001b[0m Trial 3 finished with value: 1.568625807762146 and parameters: {'learning_rate': 0.04244738262683841, 'reg_lambda': 6.668988617233936e-05, 'reg_alpha': 0.0029566648677557504, 'subsample': 0.15569141406794448, 'colsample_bytree': 0.33633655400220985, 'max_depth': 6, 'early_stopping_rounds': 146, 'n_estimators': 7000}. Best is trial 1 with value: 1.4690544605255127.\u001b[0m\n",
      "2022-06-12 20:42:26,098 INFO Metrics: {'r2': 0.3385573917065664, 'mse': 2.2598466873168945, 'mae': 1.0903128385543823, 'rmse': 1.5032786130905151}\n",
      "\u001b[32m[I 2022-06-12 20:42:26,127]\u001b[0m Trial 4 finished with value: 1.5032786130905151 and parameters: {'learning_rate': 0.07480788124660302, 'reg_lambda': 1.552386405571809e-07, 'reg_alpha': 1.853459613237367e-07, 'subsample': 0.3062094351176754, 'colsample_bytree': 0.5057100562398253, 'max_depth': 6, 'early_stopping_rounds': 173, 'n_estimators': 7000}. Best is trial 1 with value: 1.4690544605255127.\u001b[0m\n",
      "2022-06-12 20:48:51,010 INFO Metrics: {'r2': 0.4204102020493561, 'mse': 1.9801932573318481, 'mae': 0.9940010905265808, 'rmse': 1.4071934223175049}\n",
      "\u001b[32m[I 2022-06-12 20:48:51,047]\u001b[0m Trial 5 finished with value: 1.4071934223175049 and parameters: {'learning_rate': 0.02042592462931883, 'reg_lambda': 25.011464459368916, 'reg_alpha': 0.0021229564647941286, 'subsample': 0.5884317195829583, 'colsample_bytree': 0.5338129335869615, 'max_depth': 9, 'early_stopping_rounds': 255, 'n_estimators': 7000}. Best is trial 5 with value: 1.4071934223175049.\u001b[0m\n",
      "2022-06-12 20:48:51,056 INFO Training complete\n",
      "2022-06-12 20:48:51,057 INFO Creating OOF and test predictions\n",
      "2022-06-12 20:48:51,058 INFO Training and predicting for fold 0\n",
      "2022-06-12 20:55:22,300 INFO Fold 0 done!\n",
      "2022-06-12 20:55:22,301 INFO Training and predicting for fold 1\n",
      "2022-06-12 21:01:53,463 INFO Fold 1 done!\n",
      "2022-06-12 21:01:53,467 INFO Training and predicting for fold 2\n",
      "2022-06-12 21:08:31,165 INFO Fold 2 done!\n",
      "2022-06-12 21:08:31,166 INFO Training and predicting for fold 3\n",
      "2022-06-12 21:15:02,951 INFO Fold 3 done!\n",
      "2022-06-12 21:15:02,952 INFO Training and predicting for fold 4\n",
      "2022-06-12 21:20:54,247 INFO Fold 4 done!\n",
      "2022-06-12 21:20:54,248 INFO Metrics: {'r2': 0.4325323960149593, 'mse': 1.9471019744873046, 'mae': 0.9959994435310364, 'rmse': 1.395340132713318}\n"
     ]
    }
   ],
   "source": [
    "model.train()"
   ]
  },
  {
   "cell_type": "code",
   "execution_count": 10,
   "metadata": {
    "execution": {
     "iopub.execute_input": "2022-06-12T21:20:54.347548Z",
     "iopub.status.busy": "2022-06-12T21:20:54.347284Z",
     "iopub.status.idle": "2022-06-12T21:20:54.356169Z",
     "shell.execute_reply": "2022-06-12T21:20:54.355483Z",
     "shell.execute_reply.started": "2022-06-12T21:20:54.347509Z"
    },
    "papermill": {
     "duration": 0.087675,
     "end_time": "2022-02-01T06:17:47.138617",
     "exception": false,
     "start_time": "2022-02-01T06:17:47.050942",
     "status": "completed"
    },
    "tags": []
   },
   "outputs": [],
   "source": [
    "test_preds = pd.read_csv(\"./autoxgb/test_predictions.csv\")"
   ]
  },
  {
   "cell_type": "code",
   "execution_count": 11,
   "metadata": {
    "execution": {
     "iopub.execute_input": "2022-06-12T21:20:54.357876Z",
     "iopub.status.busy": "2022-06-12T21:20:54.357329Z",
     "iopub.status.idle": "2022-06-12T21:20:54.372421Z",
     "shell.execute_reply": "2022-06-12T21:20:54.371735Z",
     "shell.execute_reply.started": "2022-06-12T21:20:54.357838Z"
    },
    "papermill": {
     "duration": 0.092374,
     "end_time": "2022-02-01T06:17:47.301232",
     "exception": false,
     "start_time": "2022-02-01T06:17:47.208858",
     "status": "completed"
    },
    "tags": []
   },
   "outputs": [
    {
     "data": {
      "text/html": [
       "<div>\n",
       "<style scoped>\n",
       "    .dataframe tbody tr th:only-of-type {\n",
       "        vertical-align: middle;\n",
       "    }\n",
       "\n",
       "    .dataframe tbody tr th {\n",
       "        vertical-align: top;\n",
       "    }\n",
       "\n",
       "    .dataframe thead th {\n",
       "        text-align: right;\n",
       "    }\n",
       "</style>\n",
       "<table border=\"1\" class=\"dataframe\">\n",
       "  <thead>\n",
       "    <tr style=\"text-align: right;\">\n",
       "      <th></th>\n",
       "      <th>id</th>\n",
       "      <th>rating_num</th>\n",
       "    </tr>\n",
       "  </thead>\n",
       "  <tbody>\n",
       "    <tr>\n",
       "      <th>0</th>\n",
       "      <td>0</td>\n",
       "      <td>6.746451</td>\n",
       "    </tr>\n",
       "    <tr>\n",
       "      <th>1</th>\n",
       "      <td>1</td>\n",
       "      <td>4.747578</td>\n",
       "    </tr>\n",
       "    <tr>\n",
       "      <th>2</th>\n",
       "      <td>2</td>\n",
       "      <td>5.740692</td>\n",
       "    </tr>\n",
       "    <tr>\n",
       "      <th>3</th>\n",
       "      <td>3</td>\n",
       "      <td>6.193942</td>\n",
       "    </tr>\n",
       "    <tr>\n",
       "      <th>4</th>\n",
       "      <td>4</td>\n",
       "      <td>6.113321</td>\n",
       "    </tr>\n",
       "  </tbody>\n",
       "</table>\n",
       "</div>"
      ],
      "text/plain": [
       "   id  rating_num\n",
       "0   0    6.746451\n",
       "1   1    4.747578\n",
       "2   2    5.740692\n",
       "3   3    6.193942\n",
       "4   4    6.113321"
      ]
     },
     "execution_count": 11,
     "metadata": {},
     "output_type": "execute_result"
    }
   ],
   "source": [
    "test_preds.head()"
   ]
  },
  {
   "cell_type": "code",
   "execution_count": 12,
   "metadata": {
    "execution": {
     "iopub.execute_input": "2022-06-12T21:21:13.147879Z",
     "iopub.status.busy": "2022-06-12T21:21:13.147593Z",
     "iopub.status.idle": "2022-06-12T21:21:13.158246Z",
     "shell.execute_reply": "2022-06-12T21:21:13.157286Z",
     "shell.execute_reply.started": "2022-06-12T21:21:13.147848Z"
    },
    "papermill": {
     "duration": 0.08191,
     "end_time": "2022-02-01T06:17:47.453533",
     "exception": false,
     "start_time": "2022-02-01T06:17:47.371623",
     "status": "completed"
    },
    "tags": []
   },
   "outputs": [
    {
     "data": {
      "text/plain": [
       "0          0\n",
       "1          1\n",
       "2          2\n",
       "3          3\n",
       "4          4\n",
       "        ... \n",
       "8769    8769\n",
       "8770    8770\n",
       "8771    8771\n",
       "8772    8772\n",
       "8773    8773\n",
       "Name: id, Length: 8774, dtype: int64"
      ]
     },
     "execution_count": 12,
     "metadata": {},
     "output_type": "execute_result"
    }
   ],
   "source": [
    "test_preds.pop('id')"
   ]
  },
  {
   "cell_type": "code",
   "execution_count": 13,
   "metadata": {
    "execution": {
     "iopub.execute_input": "2022-06-12T21:21:18.362639Z",
     "iopub.status.busy": "2022-06-12T21:21:18.362106Z",
     "iopub.status.idle": "2022-06-12T21:21:18.378492Z",
     "shell.execute_reply": "2022-06-12T21:21:18.377797Z",
     "shell.execute_reply.started": "2022-06-12T21:21:18.362601Z"
    },
    "papermill": {
     "duration": 0.084756,
     "end_time": "2022-02-01T06:17:47.608795",
     "exception": false,
     "start_time": "2022-02-01T06:17:47.524039",
     "status": "completed"
    },
    "tags": []
   },
   "outputs": [
    {
     "data": {
      "text/html": [
       "<div>\n",
       "<style scoped>\n",
       "    .dataframe tbody tr th:only-of-type {\n",
       "        vertical-align: middle;\n",
       "    }\n",
       "\n",
       "    .dataframe tbody tr th {\n",
       "        vertical-align: top;\n",
       "    }\n",
       "\n",
       "    .dataframe thead th {\n",
       "        text-align: right;\n",
       "    }\n",
       "</style>\n",
       "<table border=\"1\" class=\"dataframe\">\n",
       "  <thead>\n",
       "    <tr style=\"text-align: right;\">\n",
       "      <th></th>\n",
       "      <th>rating_num</th>\n",
       "    </tr>\n",
       "  </thead>\n",
       "  <tbody>\n",
       "    <tr>\n",
       "      <th>count</th>\n",
       "      <td>8774.000000</td>\n",
       "    </tr>\n",
       "    <tr>\n",
       "      <th>mean</th>\n",
       "      <td>6.461500</td>\n",
       "    </tr>\n",
       "    <tr>\n",
       "      <th>std</th>\n",
       "      <td>0.962828</td>\n",
       "    </tr>\n",
       "    <tr>\n",
       "      <th>min</th>\n",
       "      <td>0.517512</td>\n",
       "    </tr>\n",
       "    <tr>\n",
       "      <th>25%</th>\n",
       "      <td>5.813611</td>\n",
       "    </tr>\n",
       "    <tr>\n",
       "      <th>50%</th>\n",
       "      <td>6.440504</td>\n",
       "    </tr>\n",
       "    <tr>\n",
       "      <th>75%</th>\n",
       "      <td>7.116950</td>\n",
       "    </tr>\n",
       "    <tr>\n",
       "      <th>max</th>\n",
       "      <td>9.610333</td>\n",
       "    </tr>\n",
       "  </tbody>\n",
       "</table>\n",
       "</div>"
      ],
      "text/plain": [
       "        rating_num\n",
       "count  8774.000000\n",
       "mean      6.461500\n",
       "std       0.962828\n",
       "min       0.517512\n",
       "25%       5.813611\n",
       "50%       6.440504\n",
       "75%       7.116950\n",
       "max       9.610333"
      ]
     },
     "execution_count": 13,
     "metadata": {},
     "output_type": "execute_result"
    }
   ],
   "source": [
    "test_preds.describe()"
   ]
  },
  {
   "cell_type": "code",
   "execution_count": 14,
   "metadata": {
    "execution": {
     "iopub.execute_input": "2022-06-12T21:21:43.518849Z",
     "iopub.status.busy": "2022-06-12T21:21:43.518607Z",
     "iopub.status.idle": "2022-06-12T21:21:43.542585Z",
     "shell.execute_reply": "2022-06-12T21:21:43.541747Z",
     "shell.execute_reply.started": "2022-06-12T21:21:43.518822Z"
    }
   },
   "outputs": [
    {
     "data": {
      "text/html": [
       "<div>\n",
       "<style scoped>\n",
       "    .dataframe tbody tr th:only-of-type {\n",
       "        vertical-align: middle;\n",
       "    }\n",
       "\n",
       "    .dataframe tbody tr th {\n",
       "        vertical-align: top;\n",
       "    }\n",
       "\n",
       "    .dataframe thead th {\n",
       "        text-align: right;\n",
       "    }\n",
       "</style>\n",
       "<table border=\"1\" class=\"dataframe\">\n",
       "  <thead>\n",
       "    <tr style=\"text-align: right;\">\n",
       "      <th></th>\n",
       "      <th>row_id</th>\n",
       "      <th>rating_num</th>\n",
       "    </tr>\n",
       "  </thead>\n",
       "  <tbody>\n",
       "    <tr>\n",
       "      <th>0</th>\n",
       "      <td>14785</td>\n",
       "      <td>7</td>\n",
       "    </tr>\n",
       "    <tr>\n",
       "      <th>1</th>\n",
       "      <td>15125</td>\n",
       "      <td>7</td>\n",
       "    </tr>\n",
       "    <tr>\n",
       "      <th>2</th>\n",
       "      <td>13095</td>\n",
       "      <td>7</td>\n",
       "    </tr>\n",
       "    <tr>\n",
       "      <th>3</th>\n",
       "      <td>6079</td>\n",
       "      <td>7</td>\n",
       "    </tr>\n",
       "    <tr>\n",
       "      <th>4</th>\n",
       "      <td>16584</td>\n",
       "      <td>7</td>\n",
       "    </tr>\n",
       "  </tbody>\n",
       "</table>\n",
       "</div>"
      ],
      "text/plain": [
       "   row_id  rating_num\n",
       "0   14785           7\n",
       "1   15125           7\n",
       "2   13095           7\n",
       "3    6079           7\n",
       "4   16584           7"
      ]
     },
     "execution_count": 14,
     "metadata": {},
     "output_type": "execute_result"
    }
   ],
   "source": [
    "sample = pd.read_csv(\"../input/av-football-hack-rating-prediction/data/sample_submission.csv\")\n",
    "sample.head()"
   ]
  },
  {
   "cell_type": "code",
   "execution_count": 15,
   "metadata": {
    "execution": {
     "iopub.execute_input": "2022-06-12T21:22:16.725955Z",
     "iopub.status.busy": "2022-06-12T21:22:16.725686Z",
     "iopub.status.idle": "2022-06-12T21:22:16.730318Z",
     "shell.execute_reply": "2022-06-12T21:22:16.729700Z",
     "shell.execute_reply.started": "2022-06-12T21:22:16.725906Z"
    },
    "papermill": {
     "duration": 0.15531,
     "end_time": "2022-02-01T06:17:47.834884",
     "exception": false,
     "start_time": "2022-02-01T06:17:47.679574",
     "status": "completed"
    },
    "tags": []
   },
   "outputs": [],
   "source": [
    "sample['rating_num'] = test_preds['rating_num']\n",
    "#test_preds.to_csv(\"my_submission_file.csv\", index=False)"
   ]
  },
  {
   "cell_type": "code",
   "execution_count": 16,
   "metadata": {
    "execution": {
     "iopub.execute_input": "2022-06-12T21:22:27.120504Z",
     "iopub.status.busy": "2022-06-12T21:22:27.120262Z",
     "iopub.status.idle": "2022-06-12T21:22:27.131687Z",
     "shell.execute_reply": "2022-06-12T21:22:27.130820Z",
     "shell.execute_reply.started": "2022-06-12T21:22:27.120476Z"
    }
   },
   "outputs": [
    {
     "data": {
      "text/plain": [
       "5.788728    4\n",
       "4.888780    4\n",
       "6.334430    2\n",
       "7.278301    2\n",
       "6.046708    2\n",
       "           ..\n",
       "7.249332    1\n",
       "5.840134    1\n",
       "5.733892    1\n",
       "6.892087    1\n",
       "7.219878    1\n",
       "Name: rating_num, Length: 8760, dtype: int64"
      ]
     },
     "execution_count": 16,
     "metadata": {},
     "output_type": "execute_result"
    }
   ],
   "source": [
    "sample['rating_num'].value_counts()"
   ]
  },
  {
   "cell_type": "code",
   "execution_count": 19,
   "metadata": {
    "execution": {
     "iopub.execute_input": "2022-06-12T21:23:24.407405Z",
     "iopub.status.busy": "2022-06-12T21:23:24.406713Z",
     "iopub.status.idle": "2022-06-12T21:23:24.433444Z",
     "shell.execute_reply": "2022-06-12T21:23:24.432817Z",
     "shell.execute_reply.started": "2022-06-12T21:23:24.407369Z"
    }
   },
   "outputs": [],
   "source": [
    "sample.to_csv(\"model_1.csv\", index=False)"
   ]
  },
  {
   "cell_type": "code",
   "execution_count": null,
   "metadata": {},
   "outputs": [],
   "source": []
  }
 ],
 "metadata": {
  "kernelspec": {
   "display_name": "Python 3 (ipykernel)",
   "language": "python",
   "name": "python3"
  },
  "language_info": {
   "codemirror_mode": {
    "name": "ipython",
    "version": 3
   },
   "file_extension": ".py",
   "mimetype": "text/x-python",
   "name": "python",
   "nbconvert_exporter": "python",
   "pygments_lexer": "ipython3",
   "version": "3.9.12"
  }
 },
 "nbformat": 4,
 "nbformat_minor": 4
}
